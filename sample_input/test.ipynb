{
 "cells": [
  {
   "cell_type": "code",
   "execution_count": 6,
   "metadata": {
    "collapsed": true
   },
   "outputs": [],
   "source": [
    "import pandas as pd\n",
    "import xml.etree.ElementTree as ETree\n",
    "import glob\n",
    "\n",
    "dfs = []\n",
    "index = 0\n",
    "\n",
    "# Import data\n",
    "\n",
    "emission_files = []\n",
    "full_files = []\n",
    "\n",
    "for file in glob.glob(r'/Users/lukasmueller/Desktop/sumo_data_pipeline/sample_input/*emissions.xml'):\n",
    "    emission_files.append(file)\n",
    "    #emission_files.sort()\n",
    "\n",
    "#for file in glob.glob(r'/*full.xml'):\n",
    " #   full_files.append(file)\n",
    "    #full_files.sort()"
   ]
  },
  {
   "cell_type": "code",
   "execution_count": 7,
   "outputs": [
    {
     "name": "stdout",
     "output_type": "stream",
     "text": [
      "['/Users/lukasmueller/Desktop/sumo_data_pipeline/sample_input/sample_input_emissions.xml']\n"
     ]
    }
   ],
   "source": [
    "print(emission_files)"
   ],
   "metadata": {
    "collapsed": false,
    "pycharm": {
     "name": "#%%\n"
    }
   }
  },
  {
   "cell_type": "code",
   "execution_count": null,
   "outputs": [],
   "source": [],
   "metadata": {
    "collapsed": false,
    "pycharm": {
     "name": "#%%\n"
    }
   }
  }
 ],
 "metadata": {
  "kernelspec": {
   "display_name": "Python 3",
   "language": "python",
   "name": "python3"
  },
  "language_info": {
   "codemirror_mode": {
    "name": "ipython",
    "version": 2
   },
   "file_extension": ".py",
   "mimetype": "text/x-python",
   "name": "python",
   "nbconvert_exporter": "python",
   "pygments_lexer": "ipython2",
   "version": "2.7.6"
  }
 },
 "nbformat": 4,
 "nbformat_minor": 0
}